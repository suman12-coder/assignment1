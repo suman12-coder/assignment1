{
  "nbformat": 4,
  "nbformat_minor": 0,
  "metadata": {
    "colab": {
      "provenance": [],
      "toc_visible": true
    },
    "kernelspec": {
      "name": "python3",
      "display_name": "Python 3"
    },
    "language_info": {
      "name": "python"
    }
  },
  "cells": [
    {
      "cell_type": "markdown",
      "source": [
        "Python\n",
        "  "
      ],
      "metadata": {
        "id": "NdStsvkifwTZ"
      }
    },
    {
      "cell_type": "markdown",
      "source": [
        " 1. What is Python, and why is it popular?\n",
        "  - Python is a programming language that is easy to understand and write, making it a popular choice among developers and programmers.\n",
        "-  It is compatible with various programming paradigms, such as procedural, object-oriented, and functional programming.\n",
        "-  Python has a large and active community of developers, an extensive standard library, and third-party packages for various domains.\n",
        " 2. What is an interpreter in Python?\n",
        "  - In Python, an interpreter is a program that executes Python code line by line, translating each instruction into machine-readable bytecode and then running it.\n",
        " 3. What are pre-defined keywords in Python?\n",
        "   - Keywords are reserved words in Python that have special meanings and cannot be used as identifiers (variable names, function names, etc.).\n",
        "   - Examples of keywords include if, else, while, for, def, class, import, try, except, return, True, False, None, etc.\n",
        " 4. Can keywords be used as variable names?\n",
        "  - No, keywords cannot be used as variable names in Python. Keywords are reserved words that have specific meanings within the language's syntax. Using them as variable names would cause a syntax error, as the interpreter would misinterpret the code.\n",
        " 5. What is mutability in Python?\n",
        "  - Mutability in Python refers to an object's ability to be modified after its creation.\n",
        " 6. Why are lists mutable, but tuples are immutable?\n",
        "  - Lists are mutable because its elements can be changed after the list is created.\n",
        "   -Tuples are immutable because its elements can not be changed.\n",
        " 7. What is the difference between “==” and “is” operators in Python?\n",
        "  - key difference are:\n",
        "\n",
        "  - \"==\" checks for equality of values\n",
        "and \"is\" checks for equality of identity.\n",
        "- \"is\" is faster than \"==\" because it only compares memory addresses.\n",
        " 8. What are logical operators in Python?\n",
        "  - Logical operators in Python are used to combine or modify boolean expressions. They evaluate conditions and return a boolean value (True or False).\n",
        "  - There are three main logical operators : and, or & not\n",
        " 9. What is type casting in Python?\n",
        "  -  Type casting, also referred to as type conversion, is the process of changing one data type to another in Python.\n",
        "  -  Python provides built-in functions for type casting, such as int(), float(), str(), list(), tuple(), dict(), etc.\n",
        "  -Type casting is often necessary for performing arithmetic operations, data manipulation, and input/output operations in Python programs.\n",
        " 10. What is the difference between implicit and explicit type casting?\n",
        "  -  Implicit type casting, also known as widening type casting, is performed automatically by the compiler when converting between compatible data types. Explicit type casting, or type casting, requires the programmer to explicitly define the conversion using a cast operator.\n",
        " 11. What is the purpose of conditional statements in Python?\n",
        "  -  Conditional statements in Python are used to control the flow of execution based on whether certain conditions are true or false. They allow programs to make decisions and execute different blocks of code depending on the outcome of these conditions.\n",
        " 12. How does the elif statement work?\n",
        "  -  The “elif” keyword in Python, stands for “else if”. It can be used in conditional statements to check for multiple conditions.\n",
        " 13. What is the difference between for and while loops?\n",
        "  -  The primary difference between for and while loops is that for loops are best used when the number of iterations is known in advance, while while loops are more flexible and used when the number of iterations depends on a dynamic condition or is unknown.\n",
        "  -  For loops iterate over a sequence or a predefined range, while while loops continue execution as long as a specified condition remains true.\n",
        " 14. Describe a scenario where a while loop is more suitable than a for loop.\n",
        "  -  A while loop is more suitable than a for loop when the number of iterations is not known in advance, and you want the loop to continue based on a condition that may change in an unpredictable way.\n",
        "   -  Scenario: Ask the user to enter a number greater than 10\n",
        "   \n"
      ],
      "metadata": {
        "id": "fY7Wwyqtf-CH"
      }
    },
    {
      "cell_type": "markdown",
      "source": [
        "\n",
        "number = int(input(\"Enter a number greater than 10: \"))\n",
        "\n",
        "while number <= 10:\n",
        "    print(\"That's too small. Try again.\")\n",
        "    number = int(input(\"Enter a number greater than 10: \"))\n",
        "\n",
        "print(\"Thank you!\")\n"
      ],
      "metadata": {
        "id": "w0M2Kbz7f86a"
      }
    },
    {
      "cell_type": "markdown",
      "source": [
        "#Practical Question"
      ],
      "metadata": {
        "id": "DrG7aDDeyFdu"
      }
    },
    {
      "cell_type": "code",
      "source": [
        "# 1. Write a Python program to print \"Hello, World!\"?\n",
        "print(\"Hello, World!\")"
      ],
      "metadata": {
        "id": "KjJCNEQdxrxP",
        "colab": {
          "base_uri": "https://localhost:8080/"
        },
        "outputId": "50755f89-372b-475a-be6b-453ea403b1c3"
      },
      "execution_count": 1,
      "outputs": [
        {
          "output_type": "stream",
          "name": "stdout",
          "text": [
            "Hello, World!\n"
          ]
        }
      ]
    },
    {
      "cell_type": "code",
      "source": [
        "# 2. Write a Python program that displays your name and age?\n",
        "name = \"Suman Kar\"\n",
        "age = 24\n",
        "print(\"My name is\", name, \"and I'm\", age, \"years old.\")"
      ],
      "metadata": {
        "collapsed": true,
        "id": "9n6ivMo10RKf",
        "colab": {
          "base_uri": "https://localhost:8080/"
        },
        "outputId": "ec856a50-df66-4d6a-fe80-b11c61772ea8"
      },
      "execution_count": 2,
      "outputs": [
        {
          "output_type": "stream",
          "name": "stdout",
          "text": [
            "My name is Suman Kar and I'm 24 years old.\n"
          ]
        }
      ]
    },
    {
      "cell_type": "code",
      "source": [
        "# 3.Write code to print all the pre-defined keywords in Python using the keyword library?\n",
        "import keyword\n",
        "key = keyword.kwlist\n",
        "print(\"Python Keywords:\")\n",
        "print(\"----------------\")\n",
        "for word in key:\n",
        "    print(word)"
      ],
      "metadata": {
        "id": "9B2QEQU90aPr",
        "colab": {
          "base_uri": "https://localhost:8080/"
        },
        "outputId": "2faa0dd8-0f21-4c71-e573-e4af7d01a3b1"
      },
      "execution_count": 3,
      "outputs": [
        {
          "output_type": "stream",
          "name": "stdout",
          "text": [
            "Python Keywords:\n",
            "----------------\n",
            "False\n",
            "None\n",
            "True\n",
            "and\n",
            "as\n",
            "assert\n",
            "async\n",
            "await\n",
            "break\n",
            "class\n",
            "continue\n",
            "def\n",
            "del\n",
            "elif\n",
            "else\n",
            "except\n",
            "finally\n",
            "for\n",
            "from\n",
            "global\n",
            "if\n",
            "import\n",
            "in\n",
            "is\n",
            "lambda\n",
            "nonlocal\n",
            "not\n",
            "or\n",
            "pass\n",
            "raise\n",
            "return\n",
            "try\n",
            "while\n",
            "with\n",
            "yield\n"
          ]
        }
      ]
    },
    {
      "cell_type": "code",
      "source": [
        "#4. Write a program that checks if a given word is a Python keyword.\n",
        "import keyword\n",
        "word = input(\"Enter a word: \")\n",
        "if word in keyword.kwlist:\n",
        "    print(\"It's a Python keyword.\")\n",
        "else:\n",
        "    print(\"It's not a Python keyword.\")\n"
      ],
      "metadata": {
        "id": "PdjXgIre0aKw",
        "colab": {
          "base_uri": "https://localhost:8080/"
        },
        "outputId": "decf5809-98dd-4c24-a6ca-e25ba1620edc"
      },
      "execution_count": 6,
      "outputs": [
        {
          "output_type": "stream",
          "name": "stdout",
          "text": [
            "Enter a word: pass\n",
            "It's a Python keyword.\n"
          ]
        }
      ]
    },
    {
      "cell_type": "code",
      "source": [
        "# 5. Create a list and tuple in Python, and demonstrate how attempting to change\n",
        "# an element works differently for each.\n",
        "\n",
        "# Changing an element in the list:\n",
        "list_con = [1, 2, 3,\"alia\", 5, 6]\n",
        "list_con[3] = 4\n",
        "list_con\n",
        "\n"
      ],
      "metadata": {
        "id": "sqniDc1W0aDz",
        "colab": {
          "base_uri": "https://localhost:8080/"
        },
        "outputId": "f050ba3b-8d60-43a2-e34e-b7a0a66769c7"
      },
      "execution_count": 18,
      "outputs": [
        {
          "output_type": "execute_result",
          "data": {
            "text/plain": [
              "[1, 2, 3, 4, 5, 6]"
            ]
          },
          "metadata": {},
          "execution_count": 18
        }
      ]
    },
    {
      "cell_type": "code",
      "source": [
        "# Trying to change an element in the tuple\n",
        "my_tuple = (1, 2, 3,\"alia\", 5, 6)\n",
        "my_tuple[3] = 4\n",
        "my_tuple\n",
        "# It is showing us error because tuples are immutable it means after the\n",
        "# creation of tuples its element can not be changed.\n",
        "\n"
      ],
      "metadata": {
        "id": "H8wr4PRb0Z_Q",
        "colab": {
          "base_uri": "https://localhost:8080/",
          "height": 211
        },
        "outputId": "b3eeaf22-9f32-4797-b0bc-a02bd411694c"
      },
      "execution_count": 19,
      "outputs": [
        {
          "output_type": "error",
          "ename": "TypeError",
          "evalue": "'tuple' object does not support item assignment",
          "traceback": [
            "\u001b[0;31m---------------------------------------------------------------------------\u001b[0m",
            "\u001b[0;31mTypeError\u001b[0m                                 Traceback (most recent call last)",
            "\u001b[0;32m<ipython-input-19-42d27a5b3a60>\u001b[0m in \u001b[0;36m<cell line: 0>\u001b[0;34m()\u001b[0m\n\u001b[1;32m      1\u001b[0m \u001b[0;31m# Trying to change an element in the tuple\u001b[0m\u001b[0;34m\u001b[0m\u001b[0;34m\u001b[0m\u001b[0m\n\u001b[1;32m      2\u001b[0m \u001b[0mmy_tuple\u001b[0m \u001b[0;34m=\u001b[0m \u001b[0;34m(\u001b[0m\u001b[0;36m1\u001b[0m\u001b[0;34m,\u001b[0m \u001b[0;36m2\u001b[0m\u001b[0;34m,\u001b[0m \u001b[0;36m3\u001b[0m\u001b[0;34m,\u001b[0m\u001b[0;34m\"alia\"\u001b[0m\u001b[0;34m,\u001b[0m \u001b[0;36m5\u001b[0m\u001b[0;34m,\u001b[0m \u001b[0;36m6\u001b[0m\u001b[0;34m)\u001b[0m\u001b[0;34m\u001b[0m\u001b[0;34m\u001b[0m\u001b[0m\n\u001b[0;32m----> 3\u001b[0;31m \u001b[0mmy_tuple\u001b[0m\u001b[0;34m[\u001b[0m\u001b[0;36m3\u001b[0m\u001b[0;34m]\u001b[0m \u001b[0;34m=\u001b[0m \u001b[0;36m4\u001b[0m\u001b[0;34m\u001b[0m\u001b[0;34m\u001b[0m\u001b[0m\n\u001b[0m\u001b[1;32m      4\u001b[0m \u001b[0mmy_tuple\u001b[0m\u001b[0;34m\u001b[0m\u001b[0;34m\u001b[0m\u001b[0m\n\u001b[1;32m      5\u001b[0m \u001b[0;31m# It is showing us error because tuples are immutable it means after the\u001b[0m\u001b[0;34m\u001b[0m\u001b[0;34m\u001b[0m\u001b[0m\n",
            "\u001b[0;31mTypeError\u001b[0m: 'tuple' object does not support item assignment"
          ]
        }
      ]
    },
    {
      "cell_type": "code",
      "source": [
        "# 6. Write a function to demonstrate the behavior of mutable and immutable arguments.\n",
        "\n"
      ],
      "metadata": {
        "id": "833C_cF20Z6Y"
      },
      "execution_count": null,
      "outputs": []
    },
    {
      "cell_type": "code",
      "source": [
        "# 7. Write a program that performs basic arithmetic operations on two user-input\n",
        "# numbers.\n",
        "a = int(input(\"enter a number: \"))\n",
        "b = int(input(\"enter a number: \"))\n",
        "print(\"Addition: \", a+b)\n",
        "print(\"Subtraction: \", a-b)\n",
        "print(\"Multiplication: \", a*b)\n",
        "print(\"Division: \", a/b)\n",
        "\n",
        "\n"
      ],
      "metadata": {
        "id": "7PPxzlHQ0Zxq",
        "colab": {
          "base_uri": "https://localhost:8080/"
        },
        "outputId": "fe4893cc-61d6-4cae-b208-51e348038eea"
      },
      "execution_count": 21,
      "outputs": [
        {
          "output_type": "stream",
          "name": "stdout",
          "text": [
            "enter a number: 3\n",
            "enter a number: 2\n",
            "Addition:  5\n",
            "Subtraction:  1\n",
            "Multiplication:  6\n",
            "Division:  1.5\n"
          ]
        }
      ]
    },
    {
      "cell_type": "code",
      "source": [
        "# 8. Write a program to demonstrate the use of logical operators.\n",
        "x = int(input(\"Enter the first number (x): \"))\n",
        "y = int(input(\"Enter the second number (y): \"))\n",
        "if x > 0 and y > 0:\n",
        "    print(\"Both numbers are positive.\")\n",
        "elif x < 0 and y < 0:\n",
        "    print(\"Both numbers are negative.\")\n",
        "else :\n",
        "  print(\"Either one number is not positive.\")\n",
        "\n"
      ],
      "metadata": {
        "id": "RvIZABhf0Zl7",
        "colab": {
          "base_uri": "https://localhost:8080/"
        },
        "outputId": "68d2d7d3-00ae-4b8f-a00d-bea2c6c67374"
      },
      "execution_count": 28,
      "outputs": [
        {
          "output_type": "stream",
          "name": "stdout",
          "text": [
            "Enter the first number (x): 7\n",
            "Enter the second number (y): 5\n",
            "Both numbers are positive.\n"
          ]
        }
      ]
    },
    {
      "cell_type": "code",
      "source": [
        "# 9. Write a Python program to convert user input from string to integer, float, and boolean types.\n",
        "\n",
        "#String to Integer\n",
        "a = \"5\"\n",
        "b = int(a)\n",
        "print (type(a))\n",
        "print (type(b))"
      ],
      "metadata": {
        "colab": {
          "base_uri": "https://localhost:8080/"
        },
        "id": "Zwcly7ur6nYR",
        "outputId": "f4a95ee0-8172-4617-cbb2-29c08db35741"
      },
      "execution_count": 31,
      "outputs": [
        {
          "output_type": "stream",
          "name": "stdout",
          "text": [
            "<class 'str'>\n",
            "<class 'int'>\n"
          ]
        }
      ]
    },
    {
      "cell_type": "code",
      "source": [
        "#String to float\n",
        "a = \"5\"\n",
        "b = float(a)\n",
        "print (type(a))\n",
        "print (type(b))"
      ],
      "metadata": {
        "colab": {
          "base_uri": "https://localhost:8080/"
        },
        "id": "U9Q0qyvs6cHt",
        "outputId": "bacdf343-a2f3-46a5-a92d-f31ab95aa40f"
      },
      "execution_count": 32,
      "outputs": [
        {
          "output_type": "stream",
          "name": "stdout",
          "text": [
            "<class 'str'>\n",
            "<class 'float'>\n"
          ]
        }
      ]
    },
    {
      "cell_type": "code",
      "source": [
        "# String to boolean\n",
        "a = \"5\"\n",
        "b = bool(a)\n",
        "print (type(a))\n",
        "print (type(b))"
      ],
      "metadata": {
        "colab": {
          "base_uri": "https://localhost:8080/"
        },
        "id": "BdW-vcr96b7W",
        "outputId": "ffbf74e6-1ddf-4d3d-c1d2-aa54d91ecad7"
      },
      "execution_count": 33,
      "outputs": [
        {
          "output_type": "stream",
          "name": "stdout",
          "text": [
            "<class 'str'>\n",
            "<class 'bool'>\n"
          ]
        }
      ]
    },
    {
      "cell_type": "code",
      "source": [
        "# 10. Write code to demonstrate type casting with list elements.\n",
        "string_list = ['1', '2', '3']\n",
        "# Convert to integers\n",
        "int_list = [int(i) for i in string_list]\n",
        "print(\"Integer list:\", int_list)\n",
        "\n",
        "# Convert to floats\n",
        "float_list = [float(i) for i in string_list]\n",
        "print(\"Float list:\", float_list)\n",
        "\n",
        "# Convert to booleans\n",
        "bool_list = [bool(i) for i in string_list]\n",
        "print(\"Boolean list:\", bool_list)"
      ],
      "metadata": {
        "id": "u5K5inVV0ZUs",
        "colab": {
          "base_uri": "https://localhost:8080/"
        },
        "outputId": "38a6ff47-57da-4e63-e76c-14c410a808c2"
      },
      "execution_count": 34,
      "outputs": [
        {
          "output_type": "stream",
          "name": "stdout",
          "text": [
            "Integer list: [1, 2, 3]\n",
            "Float list: [1.0, 2.0, 3.0]\n",
            "Boolean list: [True, True, True]\n"
          ]
        }
      ]
    },
    {
      "cell_type": "code",
      "source": [
        "#11. Write a program that checks if a number is positive, negative, or zero.\n",
        "sk = int(input(\"Enter a number : \"))\n",
        "if sk > 0:\n",
        "    print(\"The number is possitive.\")\n",
        "elif sk < 0:\n",
        "    print(\"The number is negative.\")\n",
        "else:\n",
        "    print(\"The number is zero.\")"
      ],
      "metadata": {
        "colab": {
          "base_uri": "https://localhost:8080/"
        },
        "id": "i8OLhipe-SJA",
        "outputId": "f182e464-54c7-43cd-c968-15144069136d"
      },
      "execution_count": 36,
      "outputs": [
        {
          "output_type": "stream",
          "name": "stdout",
          "text": [
            "Enter a number : 45\n",
            "The number is possitive.\n"
          ]
        }
      ]
    },
    {
      "cell_type": "code",
      "source": [
        "# 12. Write a for loop to print numbers from 1 to 10.\n",
        "for i in range (1,11):\n",
        "    print(i, end=\" \")\n"
      ],
      "metadata": {
        "colab": {
          "base_uri": "https://localhost:8080/"
        },
        "id": "14-UnaDe98ci",
        "outputId": "86e47f66-9260-4acd-f8ba-ebf791c3a7e2"
      },
      "execution_count": 39,
      "outputs": [
        {
          "output_type": "stream",
          "name": "stdout",
          "text": [
            "1 2 3 4 5 6 7 8 9 10 "
          ]
        }
      ]
    },
    {
      "cell_type": "code",
      "source": [
        "# 13. Write a Python program to find the sum of all even numbers between 1 and 50.\n",
        "for i in range (1,50):\n",
        "    if i % 2 == 0:\n",
        "        print(i, end=\" \")"
      ],
      "metadata": {
        "colab": {
          "base_uri": "https://localhost:8080/"
        },
        "id": "shg3UwboA-q0",
        "outputId": "c3bcf787-9cc0-43ca-f48f-531d32891225"
      },
      "execution_count": 41,
      "outputs": [
        {
          "output_type": "stream",
          "name": "stdout",
          "text": [
            "2 4 6 8 10 12 14 16 18 20 22 24 26 28 30 32 34 36 38 40 42 44 46 48 "
          ]
        }
      ]
    },
    {
      "cell_type": "code",
      "source": [
        "# 14. Write a program to reverse a string using a while loop.\n",
        "a = input(\"Enter a string: \")\n",
        "b = \"\"\n",
        "i = len(a)-1\n",
        "while i >= 0:\n",
        "    b = b+a[i]\n",
        "    i= i-1\n",
        "print(\"Reverse string is : \", b)\n",
        "\n"
      ],
      "metadata": {
        "colab": {
          "base_uri": "https://localhost:8080/"
        },
        "id": "895EGsFXA-oF",
        "outputId": "236f865c-1554-48eb-cf5a-5e81c1e961d2"
      },
      "execution_count": 47,
      "outputs": [
        {
          "output_type": "stream",
          "name": "stdout",
          "text": [
            "Enter a string: money\n",
            "Reverse string is :  yenom\n"
          ]
        }
      ]
    },
    {
      "cell_type": "code",
      "source": [],
      "metadata": {
        "id": "6xXosbTlMKYl"
      },
      "execution_count": null,
      "outputs": []
    },
    {
      "cell_type": "code",
      "source": [
        "# 15. Write a Python program to calculate the factorial of a number provided by\n",
        "#the user using a while loop.\n",
        "a = int(input(\"Enter a number: \"))\n",
        "b=1\n",
        "c=1\n",
        "while b <= a:\n",
        "    c = c*b\n",
        "    b = b+1\n",
        "print(\"Factorial of \",a, \"is\", c)\n",
        "\n"
      ],
      "metadata": {
        "colab": {
          "base_uri": "https://localhost:8080/"
        },
        "id": "ZnUBPgxvA-lL",
        "outputId": "0ba55887-f704-4758-a86f-3a20acf8d29d"
      },
      "execution_count": 52,
      "outputs": [
        {
          "output_type": "stream",
          "name": "stdout",
          "text": [
            "Enter a number: 3\n",
            "Factorial of  3 is 6\n"
          ]
        }
      ]
    }
  ]
}